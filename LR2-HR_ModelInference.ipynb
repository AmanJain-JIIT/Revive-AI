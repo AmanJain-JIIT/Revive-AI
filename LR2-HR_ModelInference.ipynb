{
 "cells": [
  {
   "cell_type": "code",
   "execution_count": 1,
   "metadata": {},
   "outputs": [
    {
     "name": "stdout",
     "output_type": "stream",
     "text": [
      "importing Jupyter notebook from Utilities.ipynb\n",
      "importing Jupyter notebook from srcnnModel.ipynb\n",
      "importing Jupyter notebook from vdsrcnnModel.ipynb\n"
     ]
    }
   ],
   "source": [
    "import os\n",
    "import numpy as np\n",
    "import matplotlib.pyplot as plt\n",
    "import cv2\n",
    "import import_ipynb\n",
    "import Utilities\n",
    "import srcnnModel"
   ]
  },
  {
   "cell_type": "code",
   "execution_count": 2,
   "metadata": {},
   "outputs": [],
   "source": [
    "Utilities.setup_gpu(8000)"
   ]
  },
  {
   "cell_type": "code",
   "execution_count": 3,
   "metadata": {},
   "outputs": [],
   "source": [
    "modelType = \"srcnn\"\n",
    "modelPath = \"A:\\WORK\\Projects\\Machine Learning\\Revive-AI\\Models\\SRCNN_Models\\modelM1(256x256).h5\"\n",
    "size=256\n",
    "batches=1\n",
    "samples = 100\n",
    "highResPath = \"A:\\WORK\\Projects\\Machine Learning\\Revive-AI\\InferenceDataset\\HR(256)\"\n",
    "lowResPath = \"A:\\WORK\\Projects\\Machine Learning\\Revive-AI\\InferenceDataset\\LR2(256)\""
   ]
  },
  {
   "cell_type": "code",
   "execution_count": 4,
   "metadata": {},
   "outputs": [],
   "source": [
    "# LoadedDataResult = Utilities.inferOnLoadedData(modelType, modelPath, size, batches)"
   ]
  },
  {
   "cell_type": "code",
   "execution_count": null,
   "metadata": {},
   "outputs": [],
   "source": [
    "RawDataResult = Utilities.inferOnRawData(modelType, modelPath, size, samples, highResPath, lowResPath)"
   ]
  },
  {
   "cell_type": "code",
   "execution_count": null,
   "metadata": {},
   "outputs": [],
   "source": []
  }
 ],
 "metadata": {
  "kernelspec": {
   "display_name": "tf",
   "language": "python",
   "name": "python3"
  },
  "language_info": {
   "codemirror_mode": {
    "name": "ipython",
    "version": 3
   },
   "file_extension": ".py",
   "mimetype": "text/x-python",
   "name": "python",
   "nbconvert_exporter": "python",
   "pygments_lexer": "ipython3",
   "version": "3.9.18"
  }
 },
 "nbformat": 4,
 "nbformat_minor": 2
}
