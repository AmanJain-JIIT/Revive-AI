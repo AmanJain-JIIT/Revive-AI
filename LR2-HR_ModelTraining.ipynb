{
 "cells": [
  {
   "cell_type": "code",
   "execution_count": 1,
   "metadata": {},
   "outputs": [
    {
     "name": "stdout",
     "output_type": "stream",
     "text": [
      "importing Jupyter notebook from Utilities.ipynb\n",
      "importing Jupyter notebook from srcnnModel.ipynb\n",
      "importing Jupyter notebook from vdsrcnnModel.ipynb\n"
     ]
    }
   ],
   "source": [
    "import import_ipynb\n",
    "import Utilities\n",
    "import srcnnModel\n",
    "import vdsrcnnModel"
   ]
  },
  {
   "cell_type": "code",
   "execution_count": 2,
   "metadata": {},
   "outputs": [],
   "source": [
    "Utilities.setup_gpu(memory_limit=8000)"
   ]
  },
  {
   "cell_type": "code",
   "execution_count": 3,
   "metadata": {},
   "outputs": [],
   "source": [
    "modelType = \"vdsrcnn\"\n",
    "modelPath = \"A:\\WORK\\Projects\\Machine Learning\\Revive-AI\\Models\\VDSRCNN_Models\\modelM1(256x256).h5\"\n",
    "size = 256"
   ]
  },
  {
   "cell_type": "code",
   "execution_count": 4,
   "metadata": {},
   "outputs": [
    {
     "name": "stdout",
     "output_type": "stream",
     "text": [
      "Running Iteration 10 On Dataset Of 50 Batches\n",
      "\n",
      "\n",
      "Loading Batch  50  ....\n",
      "Batch  50  Loaded\n",
      "\n",
      "Loading Model For Batch  50\n",
      "Model For Batch  50  Successfully Loaded\n",
      "\n",
      "Training The Model On Batch  50\n",
      "Epoch 1/10\n",
      "200/200 [==============================] - 37s 180ms/step - loss: 0.0011 - psnr: 29.7331 - val_loss: 0.0011 - val_psnr: 29.6881\n",
      "Epoch 2/10\n",
      "200/200 [==============================] - 36s 179ms/step - loss: 0.0012 - psnr: 29.5061 - val_loss: 0.0011 - val_psnr: 29.7260\n",
      "Epoch 3/10\n",
      "200/200 [==============================] - 37s 183ms/step - loss: 0.0012 - psnr: 29.3910 - val_loss: 0.0011 - val_psnr: 29.6707\n",
      "Epoch 4/10\n",
      "200/200 [==============================] - 37s 185ms/step - loss: 0.0013 - psnr: 29.2050 - val_loss: 0.0012 - val_psnr: 29.1944\n",
      "Epoch 5/10\n",
      "200/200 [==============================] - 37s 186ms/step - loss: 0.0012 - psnr: 29.5400 - val_loss: 0.0011 - val_psnr: 29.8427\n",
      "Epoch 6/10\n",
      "200/200 [==============================] - 37s 185ms/step - loss: 0.0012 - psnr: 29.5575 - val_loss: 0.0013 - val_psnr: 29.0946\n",
      "Epoch 7/10\n",
      "200/200 [==============================] - 37s 185ms/step - loss: 0.0012 - psnr: 29.5935 - val_loss: 0.0014 - val_psnr: 28.7566\n",
      "Epoch 8/10\n",
      "200/200 [==============================] - 37s 184ms/step - loss: 0.0013 - psnr: 29.0857 - val_loss: 0.0013 - val_psnr: 29.0847\n",
      "Epoch 8: early stopping\n",
      "Model On Batch  50  Trained Successfully\n",
      "\n"
     ]
    }
   ],
   "source": [
    "Utilities.trainModel(iterations = 10, epochs = 10, b=4, dataBatch = 50, device = \"GPU\", modelType = modelType, modelPath = modelPath, size=size)"
   ]
  },
  {
   "cell_type": "code",
   "execution_count": null,
   "metadata": {},
   "outputs": [],
   "source": []
  }
 ],
 "metadata": {
  "kernelspec": {
   "display_name": "tf",
   "language": "python",
   "name": "python3"
  },
  "language_info": {
   "codemirror_mode": {
    "name": "ipython",
    "version": 3
   },
   "file_extension": ".py",
   "mimetype": "text/x-python",
   "name": "python",
   "nbconvert_exporter": "python",
   "pygments_lexer": "ipython3",
   "version": "3.9.18"
  }
 },
 "nbformat": 4,
 "nbformat_minor": 2
}
