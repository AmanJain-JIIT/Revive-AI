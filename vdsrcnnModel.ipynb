{
 "cells": [
  {
   "cell_type": "code",
   "execution_count": 1,
   "metadata": {},
   "outputs": [],
   "source": [
    "import tensorflow as tf\n",
    "from tensorflow.keras.models import Sequential\n",
    "from tensorflow.keras.layers import Conv2D, UpSampling2D\n",
    "from tensorflow.keras.callbacks import EarlyStopping\n",
    "from tensorflow.keras import backend as K"
   ]
  },
  {
   "cell_type": "code",
   "execution_count": 2,
   "metadata": {},
   "outputs": [],
   "source": [
    "def psnr(y_true, y_pred):\n",
    "    \"\"\"\n",
    "    Custom PSNR (Peak Signal to Noise Ratio) metric.\n",
    "\n",
    "    Parameters:\n",
    "    y_true (tf.Tensor): The ground truth image.\n",
    "    y_pred (tf.Tensor): The predicted image.\n",
    "\n",
    "    Returns:\n",
    "    tf.Tensor: PSNR value.\n",
    "    \"\"\"\n",
    "    max_pixel = 1.0\n",
    "    mse = K.mean(K.square(y_pred - y_true))\n",
    "    psnr = 20 * K.log(max_pixel / K.sqrt(mse)) / K.log(10.0)\n",
    "    return psnr"
   ]
  },
  {
   "cell_type": "code",
   "execution_count": 1,
   "metadata": {},
   "outputs": [],
   "source": [
    "def build_vdsrcnn_model_LR2_HR(numLayers = 18, input_shape=(None, None, 3)):\n",
    "    \"\"\"\n",
    "    Builds the SRCNN model.\n",
    "\n",
    "    Parameters:\n",
    "    input_shape (tuple): Shape of the input image. Default is (None, None, 3) for images with arbitrary dimensions.\n",
    "\n",
    "    Returns:\n",
    "    model (tf.keras.Model): SRCNN model.\n",
    "    \"\"\"\n",
    "    model = Sequential()\n",
    "    model.add(Conv2D(filters=64, kernel_size=(3, 3), activation='relu', padding='same', input_shape=input_shape))\n",
    "    for _ in range(numLayers):\n",
    "        model.add(Conv2D(32, kernel_size=(3, 3), padding='same', activation='relu'))\n",
    "    model.add(Conv2D(filters=3, kernel_size=(3, 3), activation='linear', padding='same'))\n",
    "\n",
    "    model.compile(optimizer='adam', loss='mean_squared_error', metrics=[psnr])\n",
    "\n",
    "    return model"
   ]
  },
  {
   "cell_type": "code",
   "execution_count": 2,
   "metadata": {},
   "outputs": [],
   "source": [
    "def trainModel(model, trainIn, trainOut, valIn, valOut, epochs, batch, device):\n",
    "    early_stopping = EarlyStopping(monitor='val_psnr', patience=3, mode='max', verbose=1)\n",
    "    if device==\"GPU\":\n",
    "        with tf.device(\"/GPU:0\"):\n",
    "            history = model.fit(trainIn, trainOut, epochs=epochs, batch_size=batch, validation_data=(valIn, valOut), callbacks=[early_stopping])\n",
    "    else:\n",
    "        with tf.device(\"/CPU:0\"):\n",
    "            history = model.fit(trainIn, trainOut, epochs=epochs, batch_size=batch, validation_data=(valIn, valOut), callbacks=[early_stopping])\n",
    "    return history"
   ]
  },
  {
   "cell_type": "code",
   "execution_count": null,
   "metadata": {},
   "outputs": [],
   "source": []
  },
  {
   "cell_type": "code",
   "execution_count": null,
   "metadata": {},
   "outputs": [],
   "source": []
  }
 ],
 "metadata": {
  "kernelspec": {
   "display_name": "tf",
   "language": "python",
   "name": "python3"
  },
  "language_info": {
   "codemirror_mode": {
    "name": "ipython",
    "version": 3
   },
   "file_extension": ".py",
   "mimetype": "text/x-python",
   "name": "python",
   "nbconvert_exporter": "python",
   "pygments_lexer": "ipython3",
   "version": "3.9.18"
  }
 },
 "nbformat": 4,
 "nbformat_minor": 2
}
